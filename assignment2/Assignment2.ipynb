{
 "cells": [
  {
   "cell_type": "markdown",
   "id": "d3acb04d",
   "metadata": {},
   "source": [
    "# Assignment 2\n"
   ]
  },
  {
   "cell_type": "markdown",
   "id": "01bcdd28",
   "metadata": {},
   "source": [
    "### Task 1: Creating Arrays"
   ]
  },
  {
   "cell_type": "code",
   "execution_count": 1,
   "id": "5b8b162a",
   "metadata": {},
   "outputs": [],
   "source": [
    "import numpy as np"
   ]
  },
  {
   "cell_type": "code",
   "execution_count": 5,
   "id": "ec07e7d8",
   "metadata": {},
   "outputs": [
    {
     "name": "stdout",
     "output_type": "stream",
     "text": [
      "1D Array:\n",
      "[ 1  2  3  4  5  6  7  8  9 10]\n"
     ]
    }
   ],
   "source": [
    "# Create a 1D NumPy array of 10 integers ranging from 1 to 10\n",
    "arr1 = np.arange(1, 11)\n",
    "print(\"1D Array:\")\n",
    "print(arr1)"
   ]
  },
  {
   "cell_type": "code",
   "execution_count": 6,
   "id": "9d033463",
   "metadata": {},
   "outputs": [
    {
     "name": "stdout",
     "output_type": "stream",
     "text": [
      "2D Array:\n",
      "[[1 2 3]\n",
      " [4 5 6]\n",
      " [7 8 9]]\n"
     ]
    }
   ],
   "source": [
    "# Create a 2D NumPy array of shape (3, 3) with integers from 1 to 9. \n",
    "arr2 = np.arange(1, 10).reshape(3, 3)\n",
    "print(\"2D Array:\")\n",
    "print(arr2)"
   ]
  },
  {
   "cell_type": "code",
   "execution_count": 7,
   "id": "95e9a273",
   "metadata": {},
   "outputs": [
    {
     "name": "stdout",
     "output_type": "stream",
     "text": [
      "3D Array:\n",
      "[[[0.75329686 0.66529489 0.59607138]\n",
      "  [0.09481682 0.45986723 0.29065623]\n",
      "  [0.61210722 0.86901732 0.87232176]\n",
      "  [0.49432127 0.09733915 0.25402976]\n",
      "  [0.87468519 0.48008868 0.48059556]]\n",
      "\n",
      " [[0.89354352 0.94254447 0.31845204]\n",
      "  [0.39604958 0.64581079 0.97543071]\n",
      "  [0.83643992 0.035565   0.99243713]\n",
      "  [0.24949271 0.67051972 0.65639851]\n",
      "  [0.00099921 0.61338    0.46331243]]\n",
      "\n",
      " [[0.63054743 0.44338321 0.92577809]\n",
      "  [0.50469387 0.07311693 0.36651983]\n",
      "  [0.42069064 0.21579136 0.28848669]\n",
      "  [0.4362136  0.94064365 0.08176693]\n",
      "  [0.85482308 0.47159402 0.21534011]]]\n"
     ]
    }
   ],
   "source": [
    "# Create a 3D NumPy array with random floating-point numbers of shape (3, 5, 3). \n",
    "arr3 = np.random.rand(3, 5, 3)\n",
    "print(\"3D Array:\")\n",
    "print(arr3)\n"
   ]
  },
  {
   "cell_type": "code",
   "execution_count": 8,
   "id": "0727cb9c",
   "metadata": {},
   "outputs": [
    {
     "name": "stdout",
     "output_type": "stream",
     "text": [
      "1D Array -> Shape: (10,) , Size: 10 , Dtype: int32\n",
      "2D Array -> Shape: (3, 3) , Size: 9 , Dtype: int32\n",
      "3D Array -> Shape: (3, 5, 3) , Size: 45 , Dtype: float64\n"
     ]
    }
   ],
   "source": [
    "# Display the shape, size, and datatype of each array.\n",
    "\n",
    "print(\"1D Array -> Shape:\", arr1.shape, \", Size:\", arr1.size, \", Dtype:\", arr1.dtype)\n",
    "print(\"2D Array -> Shape:\", arr2.shape, \", Size:\", arr2.size, \", Dtype:\", arr2.dtype)\n",
    "print(\"3D Array -> Shape:\", arr3.shape, \", Size:\", arr3.size, \", Dtype:\", arr3.dtype)"
   ]
  },
  {
   "cell_type": "markdown",
   "id": "1bf168a1",
   "metadata": {},
   "source": [
    "### Task 2: Array Indexing and Slicing"
   ]
  },
  {
   "cell_type": "code",
   "execution_count": 10,
   "id": "fdcf9508",
   "metadata": {},
   "outputs": [
    {
     "name": "stdout",
     "output_type": "stream",
     "text": [
      "Original Array:\n",
      "[10 20 30 40 50 60 70 80 90]\n",
      "First three elements:\n",
      "[10 20 30]\n",
      "Every alternate element:\n",
      "[10 30 50 70 90]\n",
      "Reversed array:\n",
      "[90 80 70 60 50 40 30 20 10]\n"
     ]
    }
   ],
   "source": [
    "\n",
    "# 1. Create a NumPy array from the following list:\n",
    "data = [10, 20, 30, 40, 50, 60, 70, 80, 90]\n",
    "arr = np.array(data)\n",
    "\n",
    "print(\"Original Array:\")\n",
    "print(arr)\n",
    "\n",
    "# 2. Perform slicing operations\n",
    "\n",
    "# a) Retrieve the first three elements of the array. \n",
    "first_three = arr[:3]\n",
    "print(\"First three elements:\")\n",
    "print(first_three)\n",
    "\n",
    "# b) Retrieve every alternate element of the array.\n",
    "alternate = arr[::2]\n",
    "print(\"Every alternate element:\")\n",
    "print(alternate)\n",
    "\n",
    "# c) Reverse the array\n",
    "reversed_arr = arr[::-1]\n",
    "print(\"Reversed array:\")\n",
    "print(reversed_arr)"
   ]
  },
  {
   "cell_type": "markdown",
   "id": "f0a11664",
   "metadata": {},
   "source": [
    "### Task 3: Mathematical Operations "
   ]
  },
  {
   "cell_type": "code",
   "execution_count": 11,
   "id": "e825238d",
   "metadata": {},
   "outputs": [
    {
     "name": "stdout",
     "output_type": "stream",
     "text": [
      "Array A: [13 11 19  3  8]\n",
      "Array B: [10 20  4  8 16]\n"
     ]
    }
   ],
   "source": [
    "A = np.random.randint(1, 21, 5)\n",
    "B = np.random.randint(1, 21, 5)\n",
    "\n",
    "print(\"Array A:\", A)\n",
    "print(\"Array B:\", B)"
   ]
  },
  {
   "cell_type": "code",
   "execution_count": 15,
   "id": "e99ab903",
   "metadata": {},
   "outputs": [
    {
     "name": "stdout",
     "output_type": "stream",
     "text": [
      "Addition: [23 31 23 11 24]\n",
      "Subtraction: [ 3 -9 15 -5 -8]\n",
      "Multiplication: [130 220  76  24 128]\n",
      "Division: [1.3   0.55  4.75  0.375 0.5  ]\n"
     ]
    }
   ],
   "source": [
    "add = A + B\n",
    "print(\"Addition:\", add)\n",
    "\n",
    "subtract = A - B\n",
    "print(\"Subtraction:\", subtract)\n",
    "\n",
    "multiply = A * B\n",
    "print(\"Multiplication:\", multiply)\n",
    "\n",
    "divide = A / B\n",
    "print(\"Division:\", divide)"
   ]
  },
  {
   "cell_type": "code",
   "execution_count": 16,
   "id": "f5398f8e",
   "metadata": {},
   "outputs": [
    {
     "name": "stdout",
     "output_type": "stream",
     "text": [
      "Dot Product: 578\n"
     ]
    }
   ],
   "source": [
    "dot_product = np.dot(A, B)\n",
    "print(\"Dot Product:\", dot_product)\n"
   ]
  },
  {
   "cell_type": "code",
   "execution_count": 17,
   "id": "96e90eb6",
   "metadata": {},
   "outputs": [
    {
     "name": "stdout",
     "output_type": "stream",
     "text": [
      "Mean of A: 10.8\n",
      "Median of A: 11.0\n",
      "Standard Deviation of A: 5.30659966456864\n",
      "Variance of A: 28.160000000000004\n"
     ]
    }
   ],
   "source": [
    "print(\"Mean of A:\", np.mean(A))\n",
    "print(\"Median of A:\", np.median(A))\n",
    "print(\"Standard Deviation of A:\", np.std(A))\n",
    "print(\"Variance of A:\", np.var(A))\n"
   ]
  },
  {
   "cell_type": "code",
   "execution_count": 19,
   "id": "3a46a396",
   "metadata": {},
   "outputs": [
    {
     "name": "stdout",
     "output_type": "stream",
     "text": [
      "Maximum in B: 20 Index-> 1\n",
      "Minimum in B: 4 Index-> 2\n"
     ]
    }
   ],
   "source": [
    "print(\"Maximum in B:\", np.max(B), \"Index->\",np.argmax(B))\n",
    "print(\"Minimum in B:\", np.min(B), \"Index->\",np.argmin(B))"
   ]
  },
  {
   "cell_type": "markdown",
   "id": "c0308066",
   "metadata": {},
   "source": [
    "### Task 4: Reshaping and Transposing"
   ]
  },
  {
   "cell_type": "code",
   "execution_count": 20,
   "id": "e234c5c7",
   "metadata": {},
   "outputs": [
    {
     "name": "stdout",
     "output_type": "stream",
     "text": [
      "[ 1  2  3  4  5  6  7  8  9 10 11 12]\n"
     ]
    }
   ],
   "source": [
    "arr = np.arange(1, 13)\n",
    "print(arr)"
   ]
  },
  {
   "cell_type": "code",
   "execution_count": 21,
   "id": "6c7386f9",
   "metadata": {},
   "outputs": [
    {
     "name": "stdout",
     "output_type": "stream",
     "text": [
      "Reshaped to 2D (4,3):\n",
      "[[ 1  2  3]\n",
      " [ 4  5  6]\n",
      " [ 7  8  9]\n",
      " [10 11 12]]\n"
     ]
    }
   ],
   "source": [
    "arr_2d = arr.reshape(4, 3)\n",
    "print(\"Reshaped to 2D (4,3):\")\n",
    "print(arr_2d)"
   ]
  },
  {
   "cell_type": "code",
   "execution_count": 22,
   "id": "c07ebbcf",
   "metadata": {},
   "outputs": [
    {
     "name": "stdout",
     "output_type": "stream",
     "text": [
      "Reshaped to 3D (2,2,3):\n",
      "[[[ 1  2  3]\n",
      "  [ 4  5  6]]\n",
      "\n",
      " [[ 7  8  9]\n",
      "  [10 11 12]]]\n"
     ]
    }
   ],
   "source": [
    "arr_3d = arr.reshape(2, 2, 3)\n",
    "print(\"Reshaped to 3D (2,2,3):\")\n",
    "print(arr_3d)"
   ]
  },
  {
   "cell_type": "code",
   "execution_count": 24,
   "id": "89f9a2b5",
   "metadata": {},
   "outputs": [
    {
     "name": "stdout",
     "output_type": "stream",
     "text": [
      "Transpose 2D Array:\n",
      "[[ 1  4  7 10]\n",
      " [ 2  5  8 11]\n",
      " [ 3  6  9 12]]\n",
      "Shape of transposed array: (3, 4)\n"
     ]
    }
   ],
   "source": [
    "transposed = arr_2d.T\n",
    "print(\"Transpose 2D Array:\")\n",
    "print(transposed)\n",
    "print(\"Shape of transposed array:\", transposed.shape)"
   ]
  },
  {
   "cell_type": "markdown",
   "id": "993fa684",
   "metadata": {},
   "source": [
    "### Task 5: Boolean Masking and Filtering "
   ]
  },
  {
   "cell_type": "code",
   "execution_count": 27,
   "id": "7f01c497",
   "metadata": {},
   "outputs": [
    {
     "name": "stdout",
     "output_type": "stream",
     "text": [
      "Original Array:\n",
      "[48 41 15 19 24 46 37 17 19 23 11 25 18 28 29]\n",
      "\n",
      "Elements greater than 25:\n",
      "[48 41 46 37 28 29]\n",
      "\n",
      "Array after replacing elements < 30 with 0:\n",
      "[48 41  0  0  0 46 37  0  0  0  0  0  0  0  0]\n",
      "\n",
      "Number of elements divisible by 5: 2\n"
     ]
    }
   ],
   "source": [
    "arr = np.random.randint(10, 51, 15)\n",
    "print(\"Original Array:\")\n",
    "print(arr)\n",
    "print()\n",
    "\n",
    "\n",
    "greater_than_25 = arr[arr > 25]\n",
    "print(\"Elements greater than 25:\")\n",
    "print(greater_than_25)\n",
    "print()\n",
    "\n",
    "\n",
    "\n",
    "modified_arr = arr.copy()\n",
    "modified_arr[modified_arr < 30] = 0\n",
    "print(\"Array after replacing elements < 30 with 0:\")\n",
    "print(modified_arr)\n",
    "print()\n",
    "\n",
    "\n",
    "\n",
    "count_div_5 = np.sum(arr % 5 == 0)\n",
    "print(\"Number of elements divisible by 5:\", count_div_5)"
   ]
  },
  {
   "cell_type": "markdown",
   "id": "2add7831",
   "metadata": {},
   "source": [
    "### Task 6: Working with Built-in Functions\n"
   ]
  },
  {
   "cell_type": "code",
   "execution_count": 28,
   "id": "bf01f6e5",
   "metadata": {},
   "outputs": [
    {
     "name": "stdout",
     "output_type": "stream",
     "text": [
      "10 Equally spaced values between 0 and 1:\n",
      "[0.         0.11111111 0.22222222 0.33333333 0.44444444 0.55555556\n",
      " 0.66666667 0.77777778 0.88888889 1.        ]\n"
     ]
    }
   ],
   "source": [
    "equally_spaced = np.linspace(0, 1, 10)\n",
    "print(\"10 Equally spaced values between 0 and 1:\")\n",
    "print(equally_spaced)"
   ]
  },
  {
   "cell_type": "code",
   "execution_count": 29,
   "id": "e4876d9a",
   "metadata": {},
   "outputs": [
    {
     "name": "stdout",
     "output_type": "stream",
     "text": [
      "4x4 Identity Matrix:\n",
      "[[1. 0. 0. 0.]\n",
      " [0. 1. 0. 0.]\n",
      " [0. 0. 1. 0.]\n",
      " [0. 0. 0. 1.]]\n"
     ]
    }
   ],
   "source": [
    "identity_matrix = np.eye(4)\n",
    "print(\"4x4 Identity Matrix:\")\n",
    "print(identity_matrix)\n",
    "\n"
   ]
  },
  {
   "cell_type": "code",
   "execution_count": 31,
   "id": "abdd380b",
   "metadata": {},
   "outputs": [
    {
     "name": "stdout",
     "output_type": "stream",
     "text": [
      "Original Array:\n",
      "[55 97 81 97 36 32 98  5 50 17 11 31 55 87 96 49 24 90 34  2]\n",
      "Sorted Array:\n",
      "[ 2  5 11 17 24 31 32 34 36 49 50 55 55 81 87 90 96 97 97 98]\n",
      "5 Largest Elements:\n",
      "[90 96 97 97 98]\n"
     ]
    }
   ],
   "source": [
    "random_array = np.random.randint(1, 101, 20)\n",
    "sorted_array = np.sort(random_array)\n",
    "largest_five = sorted_array[-5:]\n",
    "\n",
    "print(\"Original Array:\")\n",
    "print(random_array)\n",
    "\n",
    "print(\"Sorted Array:\")\n",
    "print(sorted_array)\n",
    "\n",
    "print(\"5 Largest Elements:\")\n",
    "print(largest_five)"
   ]
  },
  {
   "cell_type": "markdown",
   "id": "308b3ef8",
   "metadata": {},
   "source": [
    "### Task 7: Generic "
   ]
  },
  {
   "cell_type": "code",
   "execution_count": 34,
   "id": "0ed7252c",
   "metadata": {},
   "outputs": [
    {
     "name": "stdout",
     "output_type": "stream",
     "text": [
      "Arrays A and B generated with shape (100, 100)\n",
      "Matrix multiplication completed.\n",
      "Determinant of C: 1.3682936958517573e+50\n",
      "[[ 16.95607274 -17.90375689 -37.0606352  ... -34.72899496   2.18960418\n",
      "  -45.01582444]\n",
      " [ -9.57110318   9.84493362  20.33324428 ...  20.29558284  -0.70781895\n",
      "   25.75686759]\n",
      " [ -1.1614071    1.55701678   2.20796132 ...   3.36897946  -0.40767613\n",
      "    3.24295325]\n",
      " ...\n",
      " [ -4.38934906   4.06733028   9.09932865 ...   8.08462173  -0.24361599\n",
      "   11.231307  ]\n",
      " [ -0.49249701   0.54777933   1.02922871 ...   1.12340593  -0.26314322\n",
      "    1.43463089]\n",
      " [ 10.6392869   -9.77081203 -21.87476139 ... -20.97533152   0.33069149\n",
      "  -27.75665408]]\n",
      "Inverse of C calculated successfully.\n",
      "Total time taken: 0.0614 seconds\n"
     ]
    }
   ],
   "source": [
    "import time\n",
    "\n",
    "A = np.random.rand(100, 100)\n",
    "B = np.random.rand(100, 100)\n",
    "\n",
    "print(\"Arrays A and B generated with shape (100, 100)\")\n",
    "\n",
    "start_time = time.time()\n",
    "C = np.dot(A, B)\n",
    "print(\"Matrix multiplication completed.\")\n",
    "\n",
    "try:\n",
    "    det = np.linalg.det(C)\n",
    "    print(\"Determinant of C:\", det)\n",
    "\n",
    "    if det != 0:\n",
    "        inv = np.linalg.inv(C)\n",
    "        print(inv)\n",
    "        print(\"Inverse of C calculated successfully.\")\n",
    "    else:\n",
    "        print(\"Matrix is singular, inverse not possible.\")\n",
    "except np.linalg.LinAlgError as e:\n",
    "    print(\"Error during inversion:\", e)\n",
    "\n",
    "\n",
    "end_time = time.time()\n",
    "print(\"Total time taken:\", round(end_time - start_time, 4), \"seconds\")"
   ]
  },
  {
   "cell_type": "code",
   "execution_count": null,
   "id": "23d9527b",
   "metadata": {},
   "outputs": [],
   "source": []
  }
 ],
 "metadata": {
  "kernelspec": {
   "display_name": "Python 3",
   "language": "python",
   "name": "python3"
  },
  "language_info": {
   "codemirror_mode": {
    "name": "ipython",
    "version": 3
   },
   "file_extension": ".py",
   "mimetype": "text/x-python",
   "name": "python",
   "nbconvert_exporter": "python",
   "pygments_lexer": "ipython3",
   "version": "3.12.5"
  }
 },
 "nbformat": 4,
 "nbformat_minor": 5
}
