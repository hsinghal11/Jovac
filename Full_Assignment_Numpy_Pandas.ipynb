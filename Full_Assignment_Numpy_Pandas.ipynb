{
 "cells": [
  {
   "cell_type": "markdown",
   "id": "94dfe75a",
   "metadata": {},
   "source": [
    "#  Part I: NumPy Questions\n",
    "\n",
    "##  Task 1: Creating Arrays"
   ]
  },
  {
   "cell_type": "code",
   "execution_count": null,
   "id": "e47e462b",
   "metadata": {},
   "outputs": [],
   "source": [
    "\n",
    "import numpy as np\n",
    "\n",
    "# Creating a 1D array of integers from 1 to 10\n",
    "arr_1d = np.arange(1, 11)\n",
    "print(\"1D Array:\\n\", arr_1d)\n",
    "\n",
    "# Creating a 2D array of shape (3, 3) with values 1 to 9\n",
    "arr_2d = np.arange(1, 10).reshape(3, 3)\n",
    "print(\"\\n2D Array:\\n\", arr_2d)\n",
    "\n",
    "# Creating a 3D array with random floating-point numbers (3, 5, 3)\n",
    "arr_3d = np.random.rand(3, 5, 3)\n",
    "print(\"\\n3D Array:\\n\", arr_3d)\n",
    "\n",
    "# Displaying shape, size, and dtype of each\n",
    "print(\"\\nShapes:\", arr_1d.shape, arr_2d.shape, arr_3d.shape)\n",
    "print(\"Sizes:\", arr_1d.size, arr_2d.size, arr_3d.size)\n",
    "print(\"Data Types:\", arr_1d.dtype, arr_2d.dtype, arr_3d.dtype)\n"
   ]
  },
  {
   "cell_type": "markdown",
   "id": "eb7a13f1",
   "metadata": {},
   "source": [
    "## ✅ Task 2: Array Indexing and Slicing"
   ]
  },
  {
   "cell_type": "code",
   "execution_count": null,
   "id": "1d9738ff",
   "metadata": {},
   "outputs": [],
   "source": [
    "\n",
    "data = np.array([10, 20, 30, 40, 50, 60, 70, 80, 90])\n",
    "\n",
    "# First three elements\n",
    "first_three = data[:3]\n",
    "print(\"First 3 elements:\", first_three)\n",
    "\n",
    "# Every alternate element\n",
    "alternate = data[::2]\n",
    "print(\"Alternate elements:\", alternate)\n",
    "\n",
    "# Reversed array\n",
    "reversed_array = data[::-1]\n",
    "print(\"Reversed array:\", reversed_array)\n"
   ]
  },
  {
   "cell_type": "markdown",
   "id": "3881ce59",
   "metadata": {},
   "source": [
    "## ✅ Task 3: Mathematical Operations"
   ]
  },
  {
   "cell_type": "code",
   "execution_count": null,
   "id": "ff3764be",
   "metadata": {},
   "outputs": [],
   "source": [
    "\n",
    "# Random integers between 1 and 20\n",
    "A = np.random.randint(1, 21, 5)\n",
    "B = np.random.randint(1, 21, 5)\n",
    "\n",
    "print(\"Array A:\", A)\n",
    "print(\"Array B:\", B)\n",
    "\n",
    "# Element-wise operations\n",
    "print(\"\\nAddition:\", A + B)\n",
    "print(\"Subtraction:\", A - B)\n",
    "print(\"Multiplication:\", A * B)\n",
    "print(\"Division:\", A / B)\n",
    "\n",
    "# Dot product\n",
    "dot_product = np.dot(A, B)\n",
    "print(\"\\nDot Product:\", dot_product)\n",
    "\n",
    "# Stats for A\n",
    "print(\"\\nMean of A:\", np.mean(A))\n",
    "print(\"Median of A:\", np.median(A))\n",
    "print(\"Std Dev of A:\", np.std(A))\n",
    "print(\"Variance of A:\", np.var(A))\n",
    "\n",
    "# Max and Min of B\n",
    "print(\"\\nMax of B:\", np.max(B), \"at index\", np.argmax(B))\n",
    "print(\"Min of B:\", np.min(B), \"at index\", np.argmin(B))\n"
   ]
  },
  {
   "cell_type": "markdown",
   "id": "7d5cf4bf",
   "metadata": {},
   "source": [
    "## ✅ Task 4: Reshaping and Transposing"
   ]
  },
  {
   "cell_type": "code",
   "execution_count": null,
   "id": "7225f466",
   "metadata": {},
   "outputs": [],
   "source": [
    "\n",
    "arr = np.arange(1, 13)\n",
    "\n",
    "# Reshape to (4, 3)\n",
    "arr_2d = arr.reshape(4, 3)\n",
    "print(\"2D Reshaped (4x3):\\n\", arr_2d)\n",
    "\n",
    "# Reshape to (2, 2, 3)\n",
    "arr_3d = arr.reshape(2, 2, 3)\n",
    "print(\"\\n3D Reshaped (2x2x3):\\n\", arr_3d)\n",
    "\n",
    "# Transpose 2D array\n",
    "transposed = arr_2d.T\n",
    "print(\"\\nTransposed 2D Array:\\n\", transposed)\n",
    "print(\"New shape:\", transposed.shape)\n"
   ]
  },
  {
   "cell_type": "markdown",
   "id": "223f6806",
   "metadata": {},
   "source": [
    "## ✅ Task 5: Boolean Masking and Filtering"
   ]
  },
  {
   "cell_type": "code",
   "execution_count": null,
   "id": "c80073ec",
   "metadata": {},
   "outputs": [],
   "source": [
    "\n",
    "arr = np.random.randint(10, 51, 15)\n",
    "print(\"Original Array:\\n\", arr)\n",
    "\n",
    "# Elements greater than 25\n",
    "greater_than_25 = arr[arr > 25]\n",
    "print(\"\\n> 25:\\n\", greater_than_25)\n",
    "\n",
    "# Replace elements < 30 with 0\n",
    "arr_modified = np.where(arr < 30, 0, arr)\n",
    "print(\"\\n< 30 replaced with 0:\\n\", arr_modified)\n",
    "\n",
    "# Count elements divisible by 5\n",
    "count_div_5 = np.sum(arr % 5 == 0)\n",
    "print(\"\\nCount divisible by 5:\", count_div_5)\n"
   ]
  },
  {
   "cell_type": "markdown",
   "id": "35f4e195",
   "metadata": {},
   "source": [
    "## ✅ Task 6: Built-in Functions"
   ]
  },
  {
   "cell_type": "code",
   "execution_count": null,
   "id": "07ba0543",
   "metadata": {},
   "outputs": [],
   "source": [
    "\n",
    "# Equally spaced values\n",
    "equally_spaced = np.linspace(0, 1, 10)\n",
    "print(\"Equally spaced (0 to 1):\\n\", equally_spaced)\n",
    "\n",
    "# Identity matrix\n",
    "identity_matrix = np.eye(4)\n",
    "print(\"\\n4x4 Identity Matrix:\\n\", identity_matrix)\n",
    "\n",
    "# Random integers, sorted, top 5\n",
    "random_vals = np.random.randint(1, 101, 20)\n",
    "sorted_vals = np.sort(random_vals)\n",
    "top_5 = sorted_vals[-5:]\n",
    "print(\"\\nSorted array:\\n\", sorted_vals)\n",
    "print(\"Top 5 values:\", top_5)\n"
   ]
  },
  {
   "cell_type": "markdown",
   "id": "196e8f6f",
   "metadata": {},
   "source": [
    "## ✅ Task 7: Generic Performance Task"
   ]
  },
  {
   "cell_type": "code",
   "execution_count": null,
   "id": "360c83ad",
   "metadata": {},
   "outputs": [],
   "source": [
    "\n",
    "import time\n",
    "\n",
    "# Two large random arrays\n",
    "A = np.random.rand(100, 100)\n",
    "B = np.random.rand(100, 100)\n",
    "\n",
    "start = time.time()\n",
    "# Matrix multiplication\n",
    "C = np.matmul(A, B)\n",
    "\n",
    "# Determinant\n",
    "det = np.linalg.det(C)\n",
    "\n",
    "# Inverse (check if invertible)\n",
    "try:\n",
    "    inv = np.linalg.inv(C)\n",
    "    print(\"Inverse calculated.\")\n",
    "except np.linalg.LinAlgError:\n",
    "    print(\"Matrix not invertible.\")\n",
    "\n",
    "end = time.time()\n",
    "\n",
    "print(\"Time taken:\", end - start, \"seconds\")\n",
    "print(\"Determinant:\", det)\n"
   ]
  },
  {
   "cell_type": "markdown",
   "id": "987b11e5",
   "metadata": {},
   "source": [
    "# 🧠 Part II: Pandas Questions\n",
    "\n",
    "## ✅ Task 1: Working with Series"
   ]
  },
  {
   "cell_type": "code",
   "execution_count": null,
   "id": "58d24e43",
   "metadata": {},
   "outputs": [],
   "source": [
    "\n",
    "import pandas as pd\n",
    "\n",
    "# Creating Series\n",
    "data = [25, 30, 35, 40, 45]\n",
    "series = pd.Series(data, index=['A', 'B', 'C', 'D', 'E'])\n",
    "\n",
    "# Displaying first 3 elements\n",
    "print(\"First 3 elements:\", series.head(3))\n",
    "\n",
    "# Mean, Median, Std Dev\n",
    "print(\"Mean:\", series.mean())\n",
    "print(\"Median:\", series.median())\n",
    "print(\"Standard Deviation:\", series.std())\n"
   ]
  },
  {
   "cell_type": "markdown",
   "id": "b6acce68",
   "metadata": {},
   "source": [
    "## ✅ Task 2: Creating and Inspecting DataFrames"
   ]
  },
  {
   "cell_type": "code",
   "execution_count": null,
   "id": "e7353472",
   "metadata": {},
   "outputs": [],
   "source": [
    "\n",
    "# Creating the DataFrame\n",
    "df = pd.DataFrame({\n",
    "    'Name': ['Alice', 'Bob', 'Carol', 'David', 'Eve'],\n",
    "    'Age': [20, 22, 19, 21, 20],\n",
    "    'Gender': ['Female', 'Male', 'Female', 'Male', 'Female'],\n",
    "    'Marks': [85, 78, 92, 74, 88]\n",
    "})\n",
    "\n",
    "# First 2 rows\n",
    "print(\"First 2 rows:\", df.head(2))\n",
    "\n",
    "# Column info\n",
    "print(\"Column Names:\", df.columns.tolist())\n",
    "print(\"Data Types:\", df.dtypes)\n",
    "print(\"Summary Stats:\", df.describe())\n",
    "\n",
    "# Adding 'Passed' column\n",
    "df['Passed'] = df['Marks'] >= 80\n",
    "print(\"DataFrame with 'Passed' column:\", df)\n"
   ]
  },
  {
   "cell_type": "markdown",
   "id": "da1b3346",
   "metadata": {},
   "source": [
    "## ✅ Task 3: Data Selection and Filtering"
   ]
  },
  {
   "cell_type": "code",
   "execution_count": null,
   "id": "fb9208ee",
   "metadata": {},
   "outputs": [],
   "source": [
    "\n",
    "# Selecting Name and Marks columns\n",
    "print(\"Name and Marks:\", df[['Name', 'Marks']])\n",
    "\n",
    "# Students with marks > 80\n",
    "print(\"Marks > 80:\", df[df['Marks'] > 80])\n",
    "\n",
    "# Student with highest marks\n",
    "highest = df[df['Marks'] == df['Marks'].max()]\n",
    "print(\"Student with Highest Marks:\", highest)\n"
   ]
  },
  {
   "cell_type": "markdown",
   "id": "545d3e80",
   "metadata": {},
   "source": [
    "## ✅ Task 4: Handling Missing Data"
   ]
  },
  {
   "cell_type": "code",
   "execution_count": null,
   "id": "e3220885",
   "metadata": {},
   "outputs": [],
   "source": [
    "\n",
    "# Introducing missing values\n",
    "df.loc[1, 'Marks'] = None\n",
    "df.loc[4, 'Age'] = None\n",
    "\n",
    "# Identify missing values\n",
    "print(\"Missing values:\", df.isnull())\n",
    "\n",
    "# Fill missing Marks with mean\n",
    "df['Marks'].fillna(df['Marks'].mean(), inplace=True)\n",
    "\n",
    "# Drop rows with missing Age\n",
    "df_cleaned = df.dropna(subset=['Age'])\n",
    "\n",
    "print(\"Cleaned DataFrame:\", df_cleaned)\n"
   ]
  },
  {
   "cell_type": "markdown",
   "id": "c88a307b",
   "metadata": {},
   "source": [
    "## ✅ Task 5: Grouping and Aggregation"
   ]
  },
  {
   "cell_type": "code",
   "execution_count": null,
   "id": "24b7b351",
   "metadata": {},
   "outputs": [],
   "source": [
    "\n",
    "# Grouping by Gender and calculating means\n",
    "grouped_mean = df.groupby('Gender')[['Age', 'Marks']].mean()\n",
    "print(\"Mean Age and Marks by Gender:\", grouped_mean)\n",
    "\n",
    "# Count of students in each gender\n",
    "gender_counts = df['Gender'].value_counts()\n",
    "print(\"Student count by Gender:\", gender_counts)\n"
   ]
  },
  {
   "cell_type": "markdown",
   "id": "5b2ef595",
   "metadata": {},
   "source": [
    "## ✅ Task 6: Reading and Writing Data"
   ]
  },
  {
   "cell_type": "code",
   "execution_count": null,
   "id": "39764e4a",
   "metadata": {},
   "outputs": [],
   "source": [
    "\n",
    "# Saving to CSV\n",
    "df.to_csv(\"students_data.csv\", index=False)\n",
    "\n",
    "# Reading it back\n",
    "df_new = pd.read_csv(\"students_data.csv\")\n",
    "print(\"First 5 rows from CSV:\", df_new.head())\n"
   ]
  },
  {
   "cell_type": "markdown",
   "id": "7b172a27",
   "metadata": {},
   "source": [
    "## ✅ Task 7: General EDA with Public Dataset"
   ]
  },
  {
   "cell_type": "code",
   "execution_count": null,
   "id": "c7278268",
   "metadata": {},
   "outputs": [],
   "source": [
    "\n",
    "# Using seaborn's built-in dataset for demo\n",
    "import seaborn as sns\n",
    "import matplotlib.pyplot as plt\n",
    "\n",
    "# Load dataset\n",
    "tips = sns.load_dataset(\"tips\")\n",
    "print(\"Dataset Overview:\", tips.head())\n",
    "\n",
    "# Summary stats\n",
    "print(\"Summary:\", tips.describe())\n",
    "\n",
    "# Missing values\n",
    "print(\"Missing Values:\", tips.isnull().sum())\n",
    "\n",
    "# Visualization - Total bill distribution\n",
    "plt.figure(figsize=(6, 4))\n",
    "sns.histplot(tips['total_bill'], kde=True)\n",
    "plt.title(\"Distribution of Total Bill\")\n",
    "plt.xlabel(\"Total Bill\")\n",
    "plt.ylabel(\"Frequency\")\n",
    "plt.show()"
   ]
  }
 ],
 "metadata": {
  "language_info": {
   "name": "python"
  }
 },
 "nbformat": 4,
 "nbformat_minor": 5
}
