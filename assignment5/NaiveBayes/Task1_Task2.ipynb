{
 "cells": [
  {
   "cell_type": "markdown",
   "id": "062fd6ee",
   "metadata": {},
   "source": [
    "# Task 1: Theory Questions Answer in 2–4 sentences:\n",
    "\n",
    "- What is the core assumption of Naive Bayes?\n",
    "- Differentiate between GaussianNB, MultinomialNB, and BernoulliNB.\n",
    "- Why is Naive Bayes considered suitable for high-dimensional data?"
   ]
  },
  {
   "cell_type": "markdown",
   "id": "7f020d58",
   "metadata": {},
   "source": [
    "# Answer 1\n",
    "\n",
    "-  The core assumption of Naive Bayes is that all features are conditionally independent of each other given the class label. This means the presence (or value) of one feature does not affect the presence (or value) of another, simplifying computation."
   ]
  },
  {
   "cell_type": "markdown",
   "id": "8843e790",
   "metadata": {},
   "source": [
    "# Answer 2\n",
    "\n",
    "- GaussianNB assumes that features follow a normal (Gaussian) distribution and is suitable for continuous data.\n",
    "- MultinomialNB is used for discrete count data (e.g., word counts in text classification).\n",
    "- BernoulliNB is ideal for binary/boolean features, where each feature is either 0 or 1 (e.g., word presence/absence)."
   ]
  },
  {
   "cell_type": "markdown",
   "id": "801294f7",
   "metadata": {},
   "source": [
    "# Answer 3\n",
    "\n",
    "- Its simplicity and efficiency stem from the conditional independence assumption, which avoids the curse of dimensionality. This makes it highly effective for tasks like spam detection or text categorization, where feature vectors are large.\n"
   ]
  },
  {
   "cell_type": "markdown",
   "id": "0f3c2821",
   "metadata": {},
   "source": [
    "# Task 2: Spam Detection using MultinomialNB\n",
    "- Load a text dataset (e.g., SMS Spam Collection or any public text dataset).\n",
    "- Preprocess using CountVectorizer or TfidfVectorizer.\n",
    "- Train a MultinomialNB classifier.\n",
    "- Evaluate:\n",
    " Accuracy,\n",
    " Precision,\n",
    " Recall,\n",
    " Confusion Matrix"
   ]
  },
  {
   "cell_type": "code",
   "execution_count": 14,
   "id": "da5c1b05",
   "metadata": {},
   "outputs": [],
   "source": [
    "import pandas as pd\n",
    "from sklearn.feature_extraction.text import TfidfVectorizer\n",
    "from sklearn.model_selection import train_test_split\n",
    "from sklearn.naive_bayes import MultinomialNB\n",
    "from sklearn.metrics import accuracy_score, precision_score, recall_score, confusion_matrix\n",
    "\n",
    "import seaborn as sns"
   ]
  },
  {
   "cell_type": "code",
   "execution_count": 15,
   "id": "a22184a3",
   "metadata": {},
   "outputs": [
    {
     "data": {
      "text/html": [
       "<div>\n",
       "<style scoped>\n",
       "    .dataframe tbody tr th:only-of-type {\n",
       "        vertical-align: middle;\n",
       "    }\n",
       "\n",
       "    .dataframe tbody tr th {\n",
       "        vertical-align: top;\n",
       "    }\n",
       "\n",
       "    .dataframe thead th {\n",
       "        text-align: right;\n",
       "    }\n",
       "</style>\n",
       "<table border=\"1\" class=\"dataframe\">\n",
       "  <thead>\n",
       "    <tr style=\"text-align: right;\">\n",
       "      <th></th>\n",
       "      <th>label</th>\n",
       "      <th>message</th>\n",
       "    </tr>\n",
       "  </thead>\n",
       "  <tbody>\n",
       "    <tr>\n",
       "      <th>0</th>\n",
       "      <td>0</td>\n",
       "      <td>Go until jurong point, crazy.. Available only ...</td>\n",
       "    </tr>\n",
       "    <tr>\n",
       "      <th>1</th>\n",
       "      <td>0</td>\n",
       "      <td>Ok lar... Joking wif u oni...</td>\n",
       "    </tr>\n",
       "    <tr>\n",
       "      <th>2</th>\n",
       "      <td>1</td>\n",
       "      <td>Free entry in 2 a wkly comp to win FA Cup fina...</td>\n",
       "    </tr>\n",
       "    <tr>\n",
       "      <th>3</th>\n",
       "      <td>0</td>\n",
       "      <td>U dun say so early hor... U c already then say...</td>\n",
       "    </tr>\n",
       "    <tr>\n",
       "      <th>4</th>\n",
       "      <td>0</td>\n",
       "      <td>Nah I don't think he goes to usf, he lives aro...</td>\n",
       "    </tr>\n",
       "  </tbody>\n",
       "</table>\n",
       "</div>"
      ],
      "text/plain": [
       "   label                                            message\n",
       "0      0  Go until jurong point, crazy.. Available only ...\n",
       "1      0                      Ok lar... Joking wif u oni...\n",
       "2      1  Free entry in 2 a wkly comp to win FA Cup fina...\n",
       "3      0  U dun say so early hor... U c already then say...\n",
       "4      0  Nah I don't think he goes to usf, he lives aro..."
      ]
     },
     "execution_count": 15,
     "metadata": {},
     "output_type": "execute_result"
    }
   ],
   "source": [
    "df = pd.read_csv(\"spam.csv\", encoding='latin-1')[['v1','v2']]\n",
    "\n",
    "df.columns = ['label','message']\n",
    "df['label'] = df['label'].map({'ham':0,'spam':1})\n",
    "\n",
    "df.head()"
   ]
  },
  {
   "cell_type": "code",
   "execution_count": 16,
   "id": "f7a84fb3",
   "metadata": {},
   "outputs": [
    {
     "name": "stdout",
     "output_type": "stream",
     "text": [
      "[0 0 0 0 1 0 0 0 0 0]\n"
     ]
    },
    {
     "data": {
      "text/plain": [
       "3245    0\n",
       "944     0\n",
       "1044    1\n",
       "2484    0\n",
       "812     1\n",
       "2973    0\n",
       "2991    0\n",
       "2942    0\n",
       "230     0\n",
       "1181    0\n",
       "Name: label, dtype: int64"
      ]
     },
     "execution_count": 16,
     "metadata": {},
     "output_type": "execute_result"
    }
   ],
   "source": [
    "vectorizer = TfidfVectorizer(stop_words='english')\n",
    "# vectorizer = CountVectorizer() we can use that also\n",
    "X = vectorizer.fit_transform(df['message'])\n",
    "\n",
    "# y has label column in which spam:1 and ham:0\n",
    "y = df['label']\n",
    "\n",
    "X_train, X_test, y_train, y_test = train_test_split(X, y, test_size=0.2, random_state=42)\n",
    "\n",
    "model = MultinomialNB()\n",
    "model.fit(X_train,y_train)\n",
    "y_pred = model.predict(X_test)\n",
    "print(y_pred[:10])\n",
    "y_test.head(10)"
   ]
  },
  {
   "cell_type": "code",
   "execution_count": 17,
   "id": "c8d728e4",
   "metadata": {},
   "outputs": [
    {
     "name": "stdout",
     "output_type": "stream",
     "text": [
      "Accuracy: 0.968609865470852\n",
      "Precision: 1.0\n",
      "Recall: 0.7666666666666667\n",
      "Confusion Matrix:\n",
      " [[965   0]\n",
      " [ 35 115]]\n"
     ]
    }
   ],
   "source": [
    "accuracy = accuracy_score(y_test, y_pred)\n",
    "precision = precision_score(y_test, y_pred)\n",
    "recall = recall_score(y_test, y_pred)\n",
    "conf_matrix = confusion_matrix(y_test, y_pred)\n",
    "\n",
    "print(\"Accuracy:\", accuracy)\n",
    "print(\"Precision:\", precision)\n",
    "print(\"Recall:\", recall)\n",
    "print(\"Confusion Matrix:\\n\", conf_matrix)"
   ]
  },
  {
   "cell_type": "code",
   "execution_count": 18,
   "id": "bb6d11d1",
   "metadata": {},
   "outputs": [
    {
     "data": {
      "image/png": "[encoded data removed]",
      "text/plain": [
       "<Figure size 600x400 with 2 Axes>"
      ]
     },
     "metadata": {},
     "output_type": "display_data"
    }
   ],
   "source": [
    "import seaborn as sns\n",
    "import matplotlib.pyplot as plt\n",
    "plt.figure(figsize=(6, 4))\n",
    "sns.heatmap(conf_matrix, annot=True, fmt='d', cmap='Blues', xticklabels=['Ham', 'Spam'], yticklabels=['Ham', 'Spam'])\n",
    "plt.xlabel('Predicted')\n",
    "plt.ylabel('Actual')\n",
    "plt.title('Confusion Matrix')\n",
    "plt.show()"
   ]
  },
  {
   "cell_type": "code",
   "execution_count": null,
   "id": "1a42f701",
   "metadata": {},
   "outputs": [],
   "source": []
  }
 ],
 "metadata": {
  "kernelspec": {
   "display_name": "Python 3",
   "language": "python",
   "name": "python3"
  },
  "language_info": {
   "codemirror_mode": {
    "name": "ipython",
    "version": 3
   },
   "file_extension": ".py",
   "mimetype": "text/x-python",
   "name": "python",
   "nbconvert_exporter": "python",
   "pygments_lexer": "ipython3",
   "version": "3.12.5"
  }
 },
 "nbformat": 4,
 "nbformat_minor": 5
}
