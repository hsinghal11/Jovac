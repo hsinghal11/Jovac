{
 "cells": [
  {
   "cell_type": "markdown",
   "id": "7321160f",
   "metadata": {},
   "source": [
    "## 1. What is the difference between Bagging and Boosting?"
   ]
  },
  {
   "cell_type": "markdown",
   "id": "4b09edbb",
   "metadata": {},
   "source": [
    "- Bagging (Bootstrap Aggregating): Trains multiple models independently on different random subsets of the data and averages their predictions. It reduces variance.\n",
    "\n",
    "- Boosting: Trains models sequentially, where each model tries to correct the errors of the previous one. It reduces bias but can be prone to overfitting.\n"
   ]
  },
  {
   "cell_type": "markdown",
   "id": "1cf4170a",
   "metadata": {},
   "source": [
    "## 2. How does Random Forest reduce variance? \n",
    "\n",
    "- Random Forest uses bagging and feature randomness. By training many decision trees on bootstrapped samples and averaging their predictions, it smooths out fluctuations and reduces overfitting caused by high variance in individual trees."
   ]
  },
  {
   "cell_type": "markdown",
   "id": "56d96b68",
   "metadata": {},
   "source": [
    "## 3. What is the weakness of boosting-based methods?\n",
    "\n",
    "- Boosting can be sensitive to noisy data and outliers, since it focuses heavily on correcting previous mistakes. This can lead to overfitting, especially if the model is too complex or trained for too many iterations."
   ]
  },
  {
   "cell_type": "markdown",
   "id": "57b34d6d",
   "metadata": {},
   "source": []
  }
 ],
 "metadata": {
  "language_info": {
   "name": "python"
  }
 },
 "nbformat": 4,
 "nbformat_minor": 5
}
