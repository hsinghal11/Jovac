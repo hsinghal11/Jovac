{
 "cells": [
  {
   "cell_type": "markdown",
   "id": "aea8e312",
   "metadata": {},
   "source": [
    "### Notes on Regression Concepts\n",
    "\n",
    "**Assumptions of Linear Regression:**  \n",
    "Linear regression assumes that the relationship between features and target is linear. The errors (residuals) should have constant spread (homoscedasticity), data points must be independent of each other, and the errors should be normally distributed.\n",
    "\n",
    "**When to Use Logistic Regression Instead of Linear Regression:**  \n",
    "Logistic regression is used when the target variable is categorical, such as Yes/No or 0/1. Linear regression is only suitable for predicting continuous numerical values like prices, ages, etc.\n",
    "\n",
    "**Interpretation of Coefficients in Logistic Regression:**  \n",
    "Each coefficient indicates how the log-odds of the outcome changes with a one-unit increase in the corresponding feature. A positive coefficient increases the chance of the outcome, while a negative coefficient decreases it.\n",
    "\n",
    "**Difference Between Sigmoid and Softmax:**  \n",
    "The sigmoid function is used for binary classification problems and gives a single probability value between 0 and 1. The softmax function is used in multi-class classification and outputs a probability distribution over all classes where the probabilities sum to 1.\n",
    "\n",
    "**Why R-squared is Not Suitable for Logistic Regression:**  \n",
    "R-squared measures the proportion of variance explained in linear regression, which works with continuous data. Logistic regression deals with classification and probabilities, so evaluation metrics such as accuracy, precision, recall, F1-score, and ROC-AUC are better suited."
   ]
  },
  {
   "cell_type": "markdown",
   "id": "8a3d853c",
   "metadata": {},
   "source": []
  }
 ],
 "metadata": {
  "language_info": {
   "name": "python"
  }
 },
 "nbformat": 4,
 "nbformat_minor": 5
}
