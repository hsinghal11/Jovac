{
 "cells": [
  {
   "cell_type": "markdown",
   "id": "5830d2eb",
   "metadata": {},
   "source": [
    "# Assignment 1 "
   ]
  },
  {
   "cell_type": "markdown",
   "id": "34a949d7",
   "metadata": {},
   "source": [
    "### Task 1"
   ]
  },
  {
   "cell_type": "code",
   "execution_count": 1,
   "id": "5b988ffe",
   "metadata": {},
   "outputs": [
    {
     "name": "stdout",
     "output_type": "stream",
     "text": [
      "Iske neeche custom Exception aane wali h\n",
      "Exception caught: Yeh meri custom exception hai.\n"
     ]
    }
   ],
   "source": [
    "# 1. Custom Exception\n",
    "class MyCustomException(Exception):\n",
    "    def __init__(self, message):\n",
    "        super().__init__(message)\n",
    "\n",
    "try:\n",
    "    print(\"Iske neeche custom Exception aane wali h\")\n",
    "    raise MyCustomException(\"Yeh meri custom exception hai.\") # if there was an error and error raised an expectation \n",
    "except MyCustomException as e:\n",
    "    print(\"Exception caught:\", e)"
   ]
  },
  {
   "cell_type": "markdown",
   "id": "aee40574",
   "metadata": {},
   "source": [
    "### Task 2"
   ]
  },
  {
   "cell_type": "code",
   "execution_count": 2,
   "id": "ef466ab5",
   "metadata": {},
   "outputs": [
    {
     "name": "stdout",
     "output_type": "stream",
     "text": [
      "2D array written to data.csv\n",
      "Read from CSV:\n",
      "[['1', '2', '3'], ['4', '5', '6'], ['a', 'b', 'c']]\n"
     ]
    }
   ],
   "source": [
    "# 2. read and Write 2D array to CSV\n",
    "import csv\n",
    "\n",
    "data = [[1, 2, 3], [4, 5, 6], ['a','b','c']]\n",
    "\n",
    "with open(\"data.csv\", \"w\", newline=\"\") as f:\n",
    "    writer = csv.writer(f)\n",
    "    writer.writerows(data)\n",
    "\n",
    "print(\"2D array written to data.csv\")\n",
    "\n",
    "newData = []\n",
    "\n",
    "with open(\"data.csv\", \"r\") as f:\n",
    "    reader = csv.reader(f)\n",
    "    for row in reader:\n",
    "        newData.append([x for x in row])\n",
    "\n",
    "print(\"Read from CSV:\")\n",
    "print(newData)\n"
   ]
  }
 ],
 "metadata": {
  "kernelspec": {
   "display_name": "Python 3",
   "language": "python",
   "name": "python3"
  },
  "language_info": {
   "codemirror_mode": {
    "name": "ipython",
    "version": 3
   },
   "file_extension": ".py",
   "mimetype": "text/x-python",
   "name": "python",
   "nbconvert_exporter": "python",
   "pygments_lexer": "ipython3",
   "version": "3.12.5"
  }
 },
 "nbformat": 4,
 "nbformat_minor": 5
}
